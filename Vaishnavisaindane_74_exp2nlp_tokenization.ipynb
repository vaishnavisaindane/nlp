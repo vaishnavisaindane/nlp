{
  "nbformat": 4,
  "nbformat_minor": 0,
  "metadata": {
    "colab": {
      "provenance": [],
      "toc_visible": true
    },
    "kernelspec": {
      "name": "python3",
      "display_name": "Python 3"
    },
    "language_info": {
      "name": "python"
    }
  },
  "cells": [
    {
      "cell_type": "code",
      "execution_count": null,
      "metadata": {
        "colab": {
          "base_uri": "https://localhost:8080/"
        },
        "id": "b_aWUdSThIUf",
        "outputId": "8f65427b-d042-4e36-ebda-8f6236eebacd"
      },
      "outputs": [
        {
          "output_type": "stream",
          "name": "stdout",
          "text": [
            "Requirement already satisfied: nltk in /usr/local/lib/python3.10/dist-packages (3.8.1)\n",
            "Requirement already satisfied: click in /usr/local/lib/python3.10/dist-packages (from nltk) (8.1.6)\n",
            "Requirement already satisfied: joblib in /usr/local/lib/python3.10/dist-packages (from nltk) (1.3.2)\n",
            "Requirement already satisfied: regex>=2021.8.3 in /usr/local/lib/python3.10/dist-packages (from nltk) (2023.6.3)\n",
            "Requirement already satisfied: tqdm in /usr/local/lib/python3.10/dist-packages (from nltk) (4.66.1)\n"
          ]
        }
      ],
      "source": [
        "!pip install nltk"
      ]
    },
    {
      "cell_type": "code",
      "source": [
        "import nltk"
      ],
      "metadata": {
        "id": "MWpFc5xUhjLC"
      },
      "execution_count": null,
      "outputs": []
    },
    {
      "cell_type": "code",
      "source": [
        "nltk.download()"
      ],
      "metadata": {
        "colab": {
          "base_uri": "https://localhost:8080/",
          "height": 564
        },
        "id": "5lFqAJMei946",
        "outputId": "682d5112-32cd-46a5-c0d5-ecb5de046d07"
      },
      "execution_count": null,
      "outputs": [
        {
          "name": "stdout",
          "output_type": "stream",
          "text": [
            "NLTK Downloader\n",
            "---------------------------------------------------------------------------\n",
            "    d) Download   l) List    u) Update   c) Config   h) Help   q) Quit\n",
            "---------------------------------------------------------------------------\n",
            "Downloader> d\n",
            "\n",
            "Download which package (l=list; x=cancel)?\n",
            "  Identifier> punkt\n"
          ]
        },
        {
          "output_type": "stream",
          "name": "stderr",
          "text": [
            "    Downloading package punkt to /root/nltk_data...\n",
            "      Package punkt is already up-to-date!\n"
          ]
        },
        {
          "output_type": "stream",
          "name": "stdout",
          "text": [
            "\n",
            "---------------------------------------------------------------------------\n",
            "    d) Download   l) List    u) Update   c) Config   h) Help   q) Quit\n",
            "---------------------------------------------------------------------------\n"
          ]
        },
        {
          "output_type": "error",
          "ename": "KeyboardInterrupt",
          "evalue": "ignored",
          "traceback": [
            "\u001b[0;31m---------------------------------------------------------------------------\u001b[0m",
            "\u001b[0;31mKeyboardInterrupt\u001b[0m                         Traceback (most recent call last)",
            "\u001b[0;32m<ipython-input-8-6e230a00a763>\u001b[0m in \u001b[0;36m<cell line: 1>\u001b[0;34m()\u001b[0m\n\u001b[0;32m----> 1\u001b[0;31m \u001b[0mnltk\u001b[0m\u001b[0;34m.\u001b[0m\u001b[0mdownload\u001b[0m\u001b[0;34m(\u001b[0m\u001b[0;34m)\u001b[0m\u001b[0;34m\u001b[0m\u001b[0;34m\u001b[0m\u001b[0m\n\u001b[0m",
            "\u001b[0;32m/usr/local/lib/python3.10/dist-packages/nltk/downloader.py\u001b[0m in \u001b[0;36mdownload\u001b[0;34m(self, info_or_id, download_dir, quiet, force, prefix, halt_on_error, raise_on_error, print_error_to)\u001b[0m\n\u001b[1;32m    761\u001b[0m             \u001b[0;32mif\u001b[0m \u001b[0mdownload_dir\u001b[0m \u001b[0;32mis\u001b[0m \u001b[0;32mnot\u001b[0m \u001b[0;32mNone\u001b[0m\u001b[0;34m:\u001b[0m\u001b[0;34m\u001b[0m\u001b[0;34m\u001b[0m\u001b[0m\n\u001b[1;32m    762\u001b[0m                 \u001b[0mself\u001b[0m\u001b[0;34m.\u001b[0m\u001b[0m_download_dir\u001b[0m \u001b[0;34m=\u001b[0m \u001b[0mdownload_dir\u001b[0m\u001b[0;34m\u001b[0m\u001b[0;34m\u001b[0m\u001b[0m\n\u001b[0;32m--> 763\u001b[0;31m             \u001b[0mself\u001b[0m\u001b[0;34m.\u001b[0m\u001b[0m_interactive_download\u001b[0m\u001b[0;34m(\u001b[0m\u001b[0;34m)\u001b[0m\u001b[0;34m\u001b[0m\u001b[0;34m\u001b[0m\u001b[0m\n\u001b[0m\u001b[1;32m    764\u001b[0m             \u001b[0;32mreturn\u001b[0m \u001b[0;32mTrue\u001b[0m\u001b[0;34m\u001b[0m\u001b[0;34m\u001b[0m\u001b[0m\n\u001b[1;32m    765\u001b[0m \u001b[0;34m\u001b[0m\u001b[0m\n",
            "\u001b[0;32m/usr/local/lib/python3.10/dist-packages/nltk/downloader.py\u001b[0m in \u001b[0;36m_interactive_download\u001b[0;34m(self)\u001b[0m\n\u001b[1;32m   1113\u001b[0m                 \u001b[0mDownloaderGUI\u001b[0m\u001b[0;34m(\u001b[0m\u001b[0mself\u001b[0m\u001b[0;34m)\u001b[0m\u001b[0;34m.\u001b[0m\u001b[0mmainloop\u001b[0m\u001b[0;34m(\u001b[0m\u001b[0;34m)\u001b[0m\u001b[0;34m\u001b[0m\u001b[0;34m\u001b[0m\u001b[0m\n\u001b[1;32m   1114\u001b[0m             \u001b[0;32mexcept\u001b[0m \u001b[0mTclError\u001b[0m\u001b[0;34m:\u001b[0m\u001b[0;34m\u001b[0m\u001b[0;34m\u001b[0m\u001b[0m\n\u001b[0;32m-> 1115\u001b[0;31m                 \u001b[0mDownloaderShell\u001b[0m\u001b[0;34m(\u001b[0m\u001b[0mself\u001b[0m\u001b[0;34m)\u001b[0m\u001b[0;34m.\u001b[0m\u001b[0mrun\u001b[0m\u001b[0;34m(\u001b[0m\u001b[0;34m)\u001b[0m\u001b[0;34m\u001b[0m\u001b[0;34m\u001b[0m\u001b[0m\n\u001b[0m\u001b[1;32m   1116\u001b[0m         \u001b[0;32melse\u001b[0m\u001b[0;34m:\u001b[0m\u001b[0;34m\u001b[0m\u001b[0;34m\u001b[0m\u001b[0m\n\u001b[1;32m   1117\u001b[0m             \u001b[0mDownloaderShell\u001b[0m\u001b[0;34m(\u001b[0m\u001b[0mself\u001b[0m\u001b[0;34m)\u001b[0m\u001b[0;34m.\u001b[0m\u001b[0mrun\u001b[0m\u001b[0;34m(\u001b[0m\u001b[0;34m)\u001b[0m\u001b[0;34m\u001b[0m\u001b[0;34m\u001b[0m\u001b[0m\n",
            "\u001b[0;32m/usr/local/lib/python3.10/dist-packages/nltk/downloader.py\u001b[0m in \u001b[0;36mrun\u001b[0;34m(self)\u001b[0m\n\u001b[1;32m   1139\u001b[0m                 \u001b[0;34m\"q) Quit\"\u001b[0m\u001b[0;34m,\u001b[0m\u001b[0;34m\u001b[0m\u001b[0;34m\u001b[0m\u001b[0m\n\u001b[1;32m   1140\u001b[0m             )\n\u001b[0;32m-> 1141\u001b[0;31m             \u001b[0muser_input\u001b[0m \u001b[0;34m=\u001b[0m \u001b[0minput\u001b[0m\u001b[0;34m(\u001b[0m\u001b[0;34m\"Downloader> \"\u001b[0m\u001b[0;34m)\u001b[0m\u001b[0;34m.\u001b[0m\u001b[0mstrip\u001b[0m\u001b[0;34m(\u001b[0m\u001b[0;34m)\u001b[0m\u001b[0;34m\u001b[0m\u001b[0;34m\u001b[0m\u001b[0m\n\u001b[0m\u001b[1;32m   1142\u001b[0m             \u001b[0;32mif\u001b[0m \u001b[0;32mnot\u001b[0m \u001b[0muser_input\u001b[0m\u001b[0;34m:\u001b[0m\u001b[0;34m\u001b[0m\u001b[0;34m\u001b[0m\u001b[0m\n\u001b[1;32m   1143\u001b[0m                 \u001b[0mprint\u001b[0m\u001b[0;34m(\u001b[0m\u001b[0;34m)\u001b[0m\u001b[0;34m\u001b[0m\u001b[0;34m\u001b[0m\u001b[0m\n",
            "\u001b[0;32m/usr/local/lib/python3.10/dist-packages/ipykernel/kernelbase.py\u001b[0m in \u001b[0;36mraw_input\u001b[0;34m(self, prompt)\u001b[0m\n\u001b[1;32m    849\u001b[0m                 \u001b[0;34m\"raw_input was called, but this frontend does not support input requests.\"\u001b[0m\u001b[0;34m\u001b[0m\u001b[0;34m\u001b[0m\u001b[0m\n\u001b[1;32m    850\u001b[0m             )\n\u001b[0;32m--> 851\u001b[0;31m         return self._input_request(str(prompt),\n\u001b[0m\u001b[1;32m    852\u001b[0m             \u001b[0mself\u001b[0m\u001b[0;34m.\u001b[0m\u001b[0m_parent_ident\u001b[0m\u001b[0;34m,\u001b[0m\u001b[0;34m\u001b[0m\u001b[0;34m\u001b[0m\u001b[0m\n\u001b[1;32m    853\u001b[0m             \u001b[0mself\u001b[0m\u001b[0;34m.\u001b[0m\u001b[0m_parent_header\u001b[0m\u001b[0;34m,\u001b[0m\u001b[0;34m\u001b[0m\u001b[0;34m\u001b[0m\u001b[0m\n",
            "\u001b[0;32m/usr/local/lib/python3.10/dist-packages/ipykernel/kernelbase.py\u001b[0m in \u001b[0;36m_input_request\u001b[0;34m(self, prompt, ident, parent, password)\u001b[0m\n\u001b[1;32m    893\u001b[0m             \u001b[0;32mexcept\u001b[0m \u001b[0mKeyboardInterrupt\u001b[0m\u001b[0;34m:\u001b[0m\u001b[0;34m\u001b[0m\u001b[0;34m\u001b[0m\u001b[0m\n\u001b[1;32m    894\u001b[0m                 \u001b[0;31m# re-raise KeyboardInterrupt, to truncate traceback\u001b[0m\u001b[0;34m\u001b[0m\u001b[0;34m\u001b[0m\u001b[0m\n\u001b[0;32m--> 895\u001b[0;31m                 \u001b[0;32mraise\u001b[0m \u001b[0mKeyboardInterrupt\u001b[0m\u001b[0;34m(\u001b[0m\u001b[0;34m\"Interrupted by user\"\u001b[0m\u001b[0;34m)\u001b[0m \u001b[0;32mfrom\u001b[0m \u001b[0;32mNone\u001b[0m\u001b[0;34m\u001b[0m\u001b[0;34m\u001b[0m\u001b[0m\n\u001b[0m\u001b[1;32m    896\u001b[0m             \u001b[0;32mexcept\u001b[0m \u001b[0mException\u001b[0m \u001b[0;32mas\u001b[0m \u001b[0me\u001b[0m\u001b[0;34m:\u001b[0m\u001b[0;34m\u001b[0m\u001b[0;34m\u001b[0m\u001b[0m\n\u001b[1;32m    897\u001b[0m                 \u001b[0mself\u001b[0m\u001b[0;34m.\u001b[0m\u001b[0mlog\u001b[0m\u001b[0;34m.\u001b[0m\u001b[0mwarning\u001b[0m\u001b[0;34m(\u001b[0m\u001b[0;34m\"Invalid Message:\"\u001b[0m\u001b[0;34m,\u001b[0m \u001b[0mexc_info\u001b[0m\u001b[0;34m=\u001b[0m\u001b[0;32mTrue\u001b[0m\u001b[0;34m)\u001b[0m\u001b[0;34m\u001b[0m\u001b[0;34m\u001b[0m\u001b[0m\n",
            "\u001b[0;31mKeyboardInterrupt\u001b[0m: Interrupted by user"
          ]
        }
      ]
    },
    {
      "cell_type": "markdown",
      "source": [
        " **Sentence Tokenization**"
      ],
      "metadata": {
        "id": "1UUnzOaIjGkp"
      }
    },
    {
      "cell_type": "code",
      "source": [
        "from nltk.tokenize import sent_tokenize"
      ],
      "metadata": {
        "id": "aAg6p8iHh3zy"
      },
      "execution_count": null,
      "outputs": []
    },
    {
      "cell_type": "code",
      "source": [
        "text = '''Lorem Ipsum is simply dummy text of the printing and typesetting industry. Lorem Ipsum has been the industry's standard dummy text ever since the 1500s, when an unknown printer took a galley of type and scrambled it to make a type specimen book. It has survived not only five centuries, but also the leap into electronic typesetting, remaining essentially unchanged. It was popularised in the 1960s with the release of Letraset sheets containing Lorem Ipsum passages, and more recently with desktop publishing software like Aldus PageMaker including versions of Lorem Ipsum.'''"
      ],
      "metadata": {
        "id": "6Bqul34riC_h"
      },
      "execution_count": null,
      "outputs": []
    },
    {
      "cell_type": "code",
      "source": [
        "text"
      ],
      "metadata": {
        "colab": {
          "base_uri": "https://localhost:8080/",
          "height": 87
        },
        "id": "50ti0wqbjrq6",
        "outputId": "ec16a701-03c6-4101-ddd9-86f6ab317377"
      },
      "execution_count": null,
      "outputs": [
        {
          "output_type": "execute_result",
          "data": {
            "text/plain": [
              "\"Lorem Ipsum is simply dummy text of the printing and typesetting industry. Lorem Ipsum has been the industry's standard dummy text ever since the 1500s, when an unknown printer took a galley of type and scrambled it to make a type specimen book. It has survived not only five centuries, but also the leap into electronic typesetting, remaining essentially unchanged. It was popularised in the 1960s with the release of Letraset sheets containing Lorem Ipsum passages, and more recently with desktop publishing software like Aldus PageMaker including versions of Lorem Ipsum.\""
            ],
            "application/vnd.google.colaboratory.intrinsic+json": {
              "type": "string"
            }
          },
          "metadata": {},
          "execution_count": 11
        }
      ]
    },
    {
      "cell_type": "code",
      "source": [
        "sentences = sent_tokenize (text)"
      ],
      "metadata": {
        "id": "DXZpzqyUjuci"
      },
      "execution_count": null,
      "outputs": []
    },
    {
      "cell_type": "code",
      "source": [
        "sentences"
      ],
      "metadata": {
        "colab": {
          "base_uri": "https://localhost:8080/"
        },
        "id": "NEHQ96bMjxaq",
        "outputId": "d29ad989-5523-42de-dbe6-7cbb158def29"
      },
      "execution_count": null,
      "outputs": [
        {
          "output_type": "execute_result",
          "data": {
            "text/plain": [
              "['Lorem Ipsum is simply dummy text of the printing and typesetting industry.',\n",
              " \"Lorem Ipsum has been the industry's standard dummy text ever since the 1500s, when an unknown printer took a galley of type and scrambled it to make a type specimen book.\",\n",
              " 'It has survived not only five centuries, but also the leap into electronic typesetting, remaining essentially unchanged.',\n",
              " 'It was popularised in the 1960s with the release of Letraset sheets containing Lorem Ipsum passages, and more recently with desktop publishing software like Aldus PageMaker including versions of Lorem Ipsum.']"
            ]
          },
          "metadata": {},
          "execution_count": 13
        }
      ]
    },
    {
      "cell_type": "markdown",
      "source": [
        "**Word Tokenization**"
      ],
      "metadata": {
        "id": "r5PYhSlNkzV5"
      }
    },
    {
      "cell_type": "code",
      "source": [
        "from nltk.tokenize import word_tokenize"
      ],
      "metadata": {
        "id": "PWbKBHa_k3YK"
      },
      "execution_count": null,
      "outputs": []
    },
    {
      "cell_type": "code",
      "source": [
        "words = word_tokenize (text)"
      ],
      "metadata": {
        "id": "OZNB0Nl7k5ny"
      },
      "execution_count": null,
      "outputs": []
    },
    {
      "cell_type": "code",
      "source": [
        "words"
      ],
      "metadata": {
        "colab": {
          "base_uri": "https://localhost:8080/"
        },
        "id": "ezUFcBgClDuy",
        "outputId": "a0feb121-fbf8-4a1c-ef66-aac9191760f7"
      },
      "execution_count": null,
      "outputs": [
        {
          "output_type": "execute_result",
          "data": {
            "text/plain": [
              "['Lorem',\n",
              " 'Ipsum',\n",
              " 'is',\n",
              " 'simply',\n",
              " 'dummy',\n",
              " 'text',\n",
              " 'of',\n",
              " 'the',\n",
              " 'printing',\n",
              " 'and',\n",
              " 'typesetting',\n",
              " 'industry',\n",
              " '.',\n",
              " 'Lorem',\n",
              " 'Ipsum',\n",
              " 'has',\n",
              " 'been',\n",
              " 'the',\n",
              " 'industry',\n",
              " \"'s\",\n",
              " 'standard',\n",
              " 'dummy',\n",
              " 'text',\n",
              " 'ever',\n",
              " 'since',\n",
              " 'the',\n",
              " '1500s',\n",
              " ',',\n",
              " 'when',\n",
              " 'an',\n",
              " 'unknown',\n",
              " 'printer',\n",
              " 'took',\n",
              " 'a',\n",
              " 'galley',\n",
              " 'of',\n",
              " 'type',\n",
              " 'and',\n",
              " 'scrambled',\n",
              " 'it',\n",
              " 'to',\n",
              " 'make',\n",
              " 'a',\n",
              " 'type',\n",
              " 'specimen',\n",
              " 'book',\n",
              " '.',\n",
              " 'It',\n",
              " 'has',\n",
              " 'survived',\n",
              " 'not',\n",
              " 'only',\n",
              " 'five',\n",
              " 'centuries',\n",
              " ',',\n",
              " 'but',\n",
              " 'also',\n",
              " 'the',\n",
              " 'leap',\n",
              " 'into',\n",
              " 'electronic',\n",
              " 'typesetting',\n",
              " ',',\n",
              " 'remaining',\n",
              " 'essentially',\n",
              " 'unchanged',\n",
              " '.',\n",
              " 'It',\n",
              " 'was',\n",
              " 'popularised',\n",
              " 'in',\n",
              " 'the',\n",
              " '1960s',\n",
              " 'with',\n",
              " 'the',\n",
              " 'release',\n",
              " 'of',\n",
              " 'Letraset',\n",
              " 'sheets',\n",
              " 'containing',\n",
              " 'Lorem',\n",
              " 'Ipsum',\n",
              " 'passages',\n",
              " ',',\n",
              " 'and',\n",
              " 'more',\n",
              " 'recently',\n",
              " 'with',\n",
              " 'desktop',\n",
              " 'publishing',\n",
              " 'software',\n",
              " 'like',\n",
              " 'Aldus',\n",
              " 'PageMaker',\n",
              " 'including',\n",
              " 'versions',\n",
              " 'of',\n",
              " 'Lorem',\n",
              " 'Ipsum',\n",
              " '.']"
            ]
          },
          "metadata": {},
          "execution_count": 16
        }
      ]
    },
    {
      "cell_type": "code",
      "source": [
        "for w in words:\n",
        "    print (w)"
      ],
      "metadata": {
        "colab": {
          "base_uri": "https://localhost:8080/"
        },
        "id": "NeGwBrMylNcq",
        "outputId": "efde87b2-9bff-4c79-e0c4-5bd6a61c2353"
      },
      "execution_count": null,
      "outputs": [
        {
          "output_type": "stream",
          "name": "stdout",
          "text": [
            "Lorem\n",
            "Ipsum\n",
            "is\n",
            "simply\n",
            "dummy\n",
            "text\n",
            "of\n",
            "the\n",
            "printing\n",
            "and\n",
            "typesetting\n",
            "industry\n",
            ".\n",
            "Lorem\n",
            "Ipsum\n",
            "has\n",
            "been\n",
            "the\n",
            "industry\n",
            "'s\n",
            "standard\n",
            "dummy\n",
            "text\n",
            "ever\n",
            "since\n",
            "the\n",
            "1500s\n",
            ",\n",
            "when\n",
            "an\n",
            "unknown\n",
            "printer\n",
            "took\n",
            "a\n",
            "galley\n",
            "of\n",
            "type\n",
            "and\n",
            "scrambled\n",
            "it\n",
            "to\n",
            "make\n",
            "a\n",
            "type\n",
            "specimen\n",
            "book\n",
            ".\n",
            "It\n",
            "has\n",
            "survived\n",
            "not\n",
            "only\n",
            "five\n",
            "centuries\n",
            ",\n",
            "but\n",
            "also\n",
            "the\n",
            "leap\n",
            "into\n",
            "electronic\n",
            "typesetting\n",
            ",\n",
            "remaining\n",
            "essentially\n",
            "unchanged\n",
            ".\n",
            "It\n",
            "was\n",
            "popularised\n",
            "in\n",
            "the\n",
            "1960s\n",
            "with\n",
            "the\n",
            "release\n",
            "of\n",
            "Letraset\n",
            "sheets\n",
            "containing\n",
            "Lorem\n",
            "Ipsum\n",
            "passages\n",
            ",\n",
            "and\n",
            "more\n",
            "recently\n",
            "with\n",
            "desktop\n",
            "publishing\n",
            "software\n",
            "like\n",
            "Aldus\n",
            "PageMaker\n",
            "including\n",
            "versions\n",
            "of\n",
            "Lorem\n",
            "Ipsum\n",
            ".\n"
          ]
        }
      ]
    },
    {
      "cell_type": "markdown",
      "source": [
        "**Levels of Sentences Tokenization using Comprehension**"
      ],
      "metadata": {
        "id": "1NL87ma1llKK"
      }
    },
    {
      "cell_type": "code",
      "source": [
        "sent_tokenize (text)"
      ],
      "metadata": {
        "colab": {
          "base_uri": "https://localhost:8080/"
        },
        "id": "ad5Pi1dilpva",
        "outputId": "4c526ebc-4e2f-4d7e-80e0-f648c9a6fd45"
      },
      "execution_count": null,
      "outputs": [
        {
          "output_type": "execute_result",
          "data": {
            "text/plain": [
              "['Lorem Ipsum is simply dummy text of the printing and typesetting industry.',\n",
              " \"Lorem Ipsum has been the industry's standard dummy text ever since the 1500s, when an unknown printer took a galley of type and scrambled it to make a type specimen book.\",\n",
              " 'It has survived not only five centuries, but also the leap into electronic typesetting, remaining essentially unchanged.',\n",
              " 'It was popularised in the 1960s with the release of Letraset sheets containing Lorem Ipsum passages, and more recently with desktop publishing software like Aldus PageMaker including versions of Lorem Ipsum.']"
            ]
          },
          "metadata": {},
          "execution_count": 18
        }
      ]
    },
    {
      "cell_type": "code",
      "source": [
        "[word_tokenize (text) for t in sent_tokenize(text)]"
      ],
      "metadata": {
        "colab": {
          "base_uri": "https://localhost:8080/"
        },
        "id": "Ukn1YQmAlvJ0",
        "outputId": "1cc0b55c-accb-4e73-d31d-79055f355c69"
      },
      "execution_count": null,
      "outputs": [
        {
          "output_type": "execute_result",
          "data": {
            "text/plain": [
              "[['Lorem',\n",
              "  'Ipsum',\n",
              "  'is',\n",
              "  'simply',\n",
              "  'dummy',\n",
              "  'text',\n",
              "  'of',\n",
              "  'the',\n",
              "  'printing',\n",
              "  'and',\n",
              "  'typesetting',\n",
              "  'industry',\n",
              "  '.',\n",
              "  'Lorem',\n",
              "  'Ipsum',\n",
              "  'has',\n",
              "  'been',\n",
              "  'the',\n",
              "  'industry',\n",
              "  \"'s\",\n",
              "  'standard',\n",
              "  'dummy',\n",
              "  'text',\n",
              "  'ever',\n",
              "  'since',\n",
              "  'the',\n",
              "  '1500s',\n",
              "  ',',\n",
              "  'when',\n",
              "  'an',\n",
              "  'unknown',\n",
              "  'printer',\n",
              "  'took',\n",
              "  'a',\n",
              "  'galley',\n",
              "  'of',\n",
              "  'type',\n",
              "  'and',\n",
              "  'scrambled',\n",
              "  'it',\n",
              "  'to',\n",
              "  'make',\n",
              "  'a',\n",
              "  'type',\n",
              "  'specimen',\n",
              "  'book',\n",
              "  '.',\n",
              "  'It',\n",
              "  'has',\n",
              "  'survived',\n",
              "  'not',\n",
              "  'only',\n",
              "  'five',\n",
              "  'centuries',\n",
              "  ',',\n",
              "  'but',\n",
              "  'also',\n",
              "  'the',\n",
              "  'leap',\n",
              "  'into',\n",
              "  'electronic',\n",
              "  'typesetting',\n",
              "  ',',\n",
              "  'remaining',\n",
              "  'essentially',\n",
              "  'unchanged',\n",
              "  '.',\n",
              "  'It',\n",
              "  'was',\n",
              "  'popularised',\n",
              "  'in',\n",
              "  'the',\n",
              "  '1960s',\n",
              "  'with',\n",
              "  'the',\n",
              "  'release',\n",
              "  'of',\n",
              "  'Letraset',\n",
              "  'sheets',\n",
              "  'containing',\n",
              "  'Lorem',\n",
              "  'Ipsum',\n",
              "  'passages',\n",
              "  ',',\n",
              "  'and',\n",
              "  'more',\n",
              "  'recently',\n",
              "  'with',\n",
              "  'desktop',\n",
              "  'publishing',\n",
              "  'software',\n",
              "  'like',\n",
              "  'Aldus',\n",
              "  'PageMaker',\n",
              "  'including',\n",
              "  'versions',\n",
              "  'of',\n",
              "  'Lorem',\n",
              "  'Ipsum',\n",
              "  '.'],\n",
              " ['Lorem',\n",
              "  'Ipsum',\n",
              "  'is',\n",
              "  'simply',\n",
              "  'dummy',\n",
              "  'text',\n",
              "  'of',\n",
              "  'the',\n",
              "  'printing',\n",
              "  'and',\n",
              "  'typesetting',\n",
              "  'industry',\n",
              "  '.',\n",
              "  'Lorem',\n",
              "  'Ipsum',\n",
              "  'has',\n",
              "  'been',\n",
              "  'the',\n",
              "  'industry',\n",
              "  \"'s\",\n",
              "  'standard',\n",
              "  'dummy',\n",
              "  'text',\n",
              "  'ever',\n",
              "  'since',\n",
              "  'the',\n",
              "  '1500s',\n",
              "  ',',\n",
              "  'when',\n",
              "  'an',\n",
              "  'unknown',\n",
              "  'printer',\n",
              "  'took',\n",
              "  'a',\n",
              "  'galley',\n",
              "  'of',\n",
              "  'type',\n",
              "  'and',\n",
              "  'scrambled',\n",
              "  'it',\n",
              "  'to',\n",
              "  'make',\n",
              "  'a',\n",
              "  'type',\n",
              "  'specimen',\n",
              "  'book',\n",
              "  '.',\n",
              "  'It',\n",
              "  'has',\n",
              "  'survived',\n",
              "  'not',\n",
              "  'only',\n",
              "  'five',\n",
              "  'centuries',\n",
              "  ',',\n",
              "  'but',\n",
              "  'also',\n",
              "  'the',\n",
              "  'leap',\n",
              "  'into',\n",
              "  'electronic',\n",
              "  'typesetting',\n",
              "  ',',\n",
              "  'remaining',\n",
              "  'essentially',\n",
              "  'unchanged',\n",
              "  '.',\n",
              "  'It',\n",
              "  'was',\n",
              "  'popularised',\n",
              "  'in',\n",
              "  'the',\n",
              "  '1960s',\n",
              "  'with',\n",
              "  'the',\n",
              "  'release',\n",
              "  'of',\n",
              "  'Letraset',\n",
              "  'sheets',\n",
              "  'containing',\n",
              "  'Lorem',\n",
              "  'Ipsum',\n",
              "  'passages',\n",
              "  ',',\n",
              "  'and',\n",
              "  'more',\n",
              "  'recently',\n",
              "  'with',\n",
              "  'desktop',\n",
              "  'publishing',\n",
              "  'software',\n",
              "  'like',\n",
              "  'Aldus',\n",
              "  'PageMaker',\n",
              "  'including',\n",
              "  'versions',\n",
              "  'of',\n",
              "  'Lorem',\n",
              "  'Ipsum',\n",
              "  '.'],\n",
              " ['Lorem',\n",
              "  'Ipsum',\n",
              "  'is',\n",
              "  'simply',\n",
              "  'dummy',\n",
              "  'text',\n",
              "  'of',\n",
              "  'the',\n",
              "  'printing',\n",
              "  'and',\n",
              "  'typesetting',\n",
              "  'industry',\n",
              "  '.',\n",
              "  'Lorem',\n",
              "  'Ipsum',\n",
              "  'has',\n",
              "  'been',\n",
              "  'the',\n",
              "  'industry',\n",
              "  \"'s\",\n",
              "  'standard',\n",
              "  'dummy',\n",
              "  'text',\n",
              "  'ever',\n",
              "  'since',\n",
              "  'the',\n",
              "  '1500s',\n",
              "  ',',\n",
              "  'when',\n",
              "  'an',\n",
              "  'unknown',\n",
              "  'printer',\n",
              "  'took',\n",
              "  'a',\n",
              "  'galley',\n",
              "  'of',\n",
              "  'type',\n",
              "  'and',\n",
              "  'scrambled',\n",
              "  'it',\n",
              "  'to',\n",
              "  'make',\n",
              "  'a',\n",
              "  'type',\n",
              "  'specimen',\n",
              "  'book',\n",
              "  '.',\n",
              "  'It',\n",
              "  'has',\n",
              "  'survived',\n",
              "  'not',\n",
              "  'only',\n",
              "  'five',\n",
              "  'centuries',\n",
              "  ',',\n",
              "  'but',\n",
              "  'also',\n",
              "  'the',\n",
              "  'leap',\n",
              "  'into',\n",
              "  'electronic',\n",
              "  'typesetting',\n",
              "  ',',\n",
              "  'remaining',\n",
              "  'essentially',\n",
              "  'unchanged',\n",
              "  '.',\n",
              "  'It',\n",
              "  'was',\n",
              "  'popularised',\n",
              "  'in',\n",
              "  'the',\n",
              "  '1960s',\n",
              "  'with',\n",
              "  'the',\n",
              "  'release',\n",
              "  'of',\n",
              "  'Letraset',\n",
              "  'sheets',\n",
              "  'containing',\n",
              "  'Lorem',\n",
              "  'Ipsum',\n",
              "  'passages',\n",
              "  ',',\n",
              "  'and',\n",
              "  'more',\n",
              "  'recently',\n",
              "  'with',\n",
              "  'desktop',\n",
              "  'publishing',\n",
              "  'software',\n",
              "  'like',\n",
              "  'Aldus',\n",
              "  'PageMaker',\n",
              "  'including',\n",
              "  'versions',\n",
              "  'of',\n",
              "  'Lorem',\n",
              "  'Ipsum',\n",
              "  '.'],\n",
              " ['Lorem',\n",
              "  'Ipsum',\n",
              "  'is',\n",
              "  'simply',\n",
              "  'dummy',\n",
              "  'text',\n",
              "  'of',\n",
              "  'the',\n",
              "  'printing',\n",
              "  'and',\n",
              "  'typesetting',\n",
              "  'industry',\n",
              "  '.',\n",
              "  'Lorem',\n",
              "  'Ipsum',\n",
              "  'has',\n",
              "  'been',\n",
              "  'the',\n",
              "  'industry',\n",
              "  \"'s\",\n",
              "  'standard',\n",
              "  'dummy',\n",
              "  'text',\n",
              "  'ever',\n",
              "  'since',\n",
              "  'the',\n",
              "  '1500s',\n",
              "  ',',\n",
              "  'when',\n",
              "  'an',\n",
              "  'unknown',\n",
              "  'printer',\n",
              "  'took',\n",
              "  'a',\n",
              "  'galley',\n",
              "  'of',\n",
              "  'type',\n",
              "  'and',\n",
              "  'scrambled',\n",
              "  'it',\n",
              "  'to',\n",
              "  'make',\n",
              "  'a',\n",
              "  'type',\n",
              "  'specimen',\n",
              "  'book',\n",
              "  '.',\n",
              "  'It',\n",
              "  'has',\n",
              "  'survived',\n",
              "  'not',\n",
              "  'only',\n",
              "  'five',\n",
              "  'centuries',\n",
              "  ',',\n",
              "  'but',\n",
              "  'also',\n",
              "  'the',\n",
              "  'leap',\n",
              "  'into',\n",
              "  'electronic',\n",
              "  'typesetting',\n",
              "  ',',\n",
              "  'remaining',\n",
              "  'essentially',\n",
              "  'unchanged',\n",
              "  '.',\n",
              "  'It',\n",
              "  'was',\n",
              "  'popularised',\n",
              "  'in',\n",
              "  'the',\n",
              "  '1960s',\n",
              "  'with',\n",
              "  'the',\n",
              "  'release',\n",
              "  'of',\n",
              "  'Letraset',\n",
              "  'sheets',\n",
              "  'containing',\n",
              "  'Lorem',\n",
              "  'Ipsum',\n",
              "  'passages',\n",
              "  ',',\n",
              "  'and',\n",
              "  'more',\n",
              "  'recently',\n",
              "  'with',\n",
              "  'desktop',\n",
              "  'publishing',\n",
              "  'software',\n",
              "  'like',\n",
              "  'Aldus',\n",
              "  'PageMaker',\n",
              "  'including',\n",
              "  'versions',\n",
              "  'of',\n",
              "  'Lorem',\n",
              "  'Ipsum',\n",
              "  '.']]"
            ]
          },
          "metadata": {},
          "execution_count": 19
        }
      ]
    },
    {
      "cell_type": "code",
      "source": [
        "from nltk.tokenize import wordpunct_tokenize"
      ],
      "metadata": {
        "id": "UtZXK0Cxlxna"
      },
      "execution_count": null,
      "outputs": []
    },
    {
      "cell_type": "code",
      "source": [
        "wordpunct_tokenize (text)"
      ],
      "metadata": {
        "colab": {
          "base_uri": "https://localhost:8080/"
        },
        "id": "31gLfFXRl0qC",
        "outputId": "5a0b46a2-7f13-4646-d00c-ab13529d582b"
      },
      "execution_count": null,
      "outputs": [
        {
          "output_type": "execute_result",
          "data": {
            "text/plain": [
              "['Lorem',\n",
              " 'Ipsum',\n",
              " 'is',\n",
              " 'simply',\n",
              " 'dummy',\n",
              " 'text',\n",
              " 'of',\n",
              " 'the',\n",
              " 'printing',\n",
              " 'and',\n",
              " 'typesetting',\n",
              " 'industry',\n",
              " '.',\n",
              " 'Lorem',\n",
              " 'Ipsum',\n",
              " 'has',\n",
              " 'been',\n",
              " 'the',\n",
              " 'industry',\n",
              " \"'\",\n",
              " 's',\n",
              " 'standard',\n",
              " 'dummy',\n",
              " 'text',\n",
              " 'ever',\n",
              " 'since',\n",
              " 'the',\n",
              " '1500s',\n",
              " ',',\n",
              " 'when',\n",
              " 'an',\n",
              " 'unknown',\n",
              " 'printer',\n",
              " 'took',\n",
              " 'a',\n",
              " 'galley',\n",
              " 'of',\n",
              " 'type',\n",
              " 'and',\n",
              " 'scrambled',\n",
              " 'it',\n",
              " 'to',\n",
              " 'make',\n",
              " 'a',\n",
              " 'type',\n",
              " 'specimen',\n",
              " 'book',\n",
              " '.',\n",
              " 'It',\n",
              " 'has',\n",
              " 'survived',\n",
              " 'not',\n",
              " 'only',\n",
              " 'five',\n",
              " 'centuries',\n",
              " ',',\n",
              " 'but',\n",
              " 'also',\n",
              " 'the',\n",
              " 'leap',\n",
              " 'into',\n",
              " 'electronic',\n",
              " 'typesetting',\n",
              " ',',\n",
              " 'remaining',\n",
              " 'essentially',\n",
              " 'unchanged',\n",
              " '.',\n",
              " 'It',\n",
              " 'was',\n",
              " 'popularised',\n",
              " 'in',\n",
              " 'the',\n",
              " '1960s',\n",
              " 'with',\n",
              " 'the',\n",
              " 'release',\n",
              " 'of',\n",
              " 'Letraset',\n",
              " 'sheets',\n",
              " 'containing',\n",
              " 'Lorem',\n",
              " 'Ipsum',\n",
              " 'passages',\n",
              " ',',\n",
              " 'and',\n",
              " 'more',\n",
              " 'recently',\n",
              " 'with',\n",
              " 'desktop',\n",
              " 'publishing',\n",
              " 'software',\n",
              " 'like',\n",
              " 'Aldus',\n",
              " 'PageMaker',\n",
              " 'including',\n",
              " 'versions',\n",
              " 'of',\n",
              " 'Lorem',\n",
              " 'Ipsum',\n",
              " '.']"
            ]
          },
          "metadata": {},
          "execution_count": 21
        }
      ]
    },
    {
      "cell_type": "markdown",
      "source": [
        "**Filteration of Text by converting into lower case**"
      ],
      "metadata": {
        "id": "nPfF1UECl9a6"
      }
    },
    {
      "cell_type": "code",
      "source": [
        "text.lower()"
      ],
      "metadata": {
        "colab": {
          "base_uri": "https://localhost:8080/",
          "height": 87
        },
        "id": "FAml52nymCFi",
        "outputId": "37490e65-d964-4ecd-8bb6-30c3bd6d0930"
      },
      "execution_count": null,
      "outputs": [
        {
          "output_type": "execute_result",
          "data": {
            "text/plain": [
              "\"lorem ipsum is simply dummy text of the printing and typesetting industry. lorem ipsum has been the industry's standard dummy text ever since the 1500s, when an unknown printer took a galley of type and scrambled it to make a type specimen book. it has survived not only five centuries, but also the leap into electronic typesetting, remaining essentially unchanged. it was popularised in the 1960s with the release of letraset sheets containing lorem ipsum passages, and more recently with desktop publishing software like aldus pagemaker including versions of lorem ipsum.\""
            ],
            "application/vnd.google.colaboratory.intrinsic+json": {
              "type": "string"
            }
          },
          "metadata": {},
          "execution_count": 22
        }
      ]
    },
    {
      "cell_type": "code",
      "source": [
        "text.upper()"
      ],
      "metadata": {
        "colab": {
          "base_uri": "https://localhost:8080/",
          "height": 87
        },
        "id": "VYZcy9DRmGpA",
        "outputId": "39202e25-c922-4d46-bc83-e1b77c3ff37a"
      },
      "execution_count": null,
      "outputs": [
        {
          "output_type": "execute_result",
          "data": {
            "text/plain": [
              "\"LOREM IPSUM IS SIMPLY DUMMY TEXT OF THE PRINTING AND TYPESETTING INDUSTRY. LOREM IPSUM HAS BEEN THE INDUSTRY'S STANDARD DUMMY TEXT EVER SINCE THE 1500S, WHEN AN UNKNOWN PRINTER TOOK A GALLEY OF TYPE AND SCRAMBLED IT TO MAKE A TYPE SPECIMEN BOOK. IT HAS SURVIVED NOT ONLY FIVE CENTURIES, BUT ALSO THE LEAP INTO ELECTRONIC TYPESETTING, REMAINING ESSENTIALLY UNCHANGED. IT WAS POPULARISED IN THE 1960S WITH THE RELEASE OF LETRASET SHEETS CONTAINING LOREM IPSUM PASSAGES, AND MORE RECENTLY WITH DESKTOP PUBLISHING SOFTWARE LIKE ALDUS PAGEMAKER INCLUDING VERSIONS OF LOREM IPSUM.\""
            ],
            "application/vnd.google.colaboratory.intrinsic+json": {
              "type": "string"
            }
          },
          "metadata": {},
          "execution_count": 23
        }
      ]
    }
  ]
}